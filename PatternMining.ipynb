{
  "nbformat": 4,
  "nbformat_minor": 0,
  "metadata": {
    "colab": {
      "name": "PatternMining.ipynb",
      "version": "0.3.2",
      "provenance": [],
      "include_colab_link": true
    },
    "kernelspec": {
      "name": "python3",
      "display_name": "Python 3"
    }
  },
  "cells": [
    {
      "cell_type": "markdown",
      "metadata": {
        "id": "view-in-github",
        "colab_type": "text"
      },
      "source": [
        "<a href=\"https://colab.research.google.com/github/yunsing/Compsci361/blob/master/PatternMining.ipynb\" target=\"_parent\"><img src=\"https://colab.research.google.com/assets/colab-badge.svg\" alt=\"Open In Colab\"/></a>"
      ]
    },
    {
      "cell_type": "markdown",
      "metadata": {
        "id": "JrJ7YMEqpYWC",
        "colab_type": "text"
      },
      "source": [
        "# Apriori \n",
        "\n",
        "Association rules analysis is a technique to uncover how items are associated to each other. There are three common ways to measure association.\n"
      ]
    },
    {
      "cell_type": "code",
      "metadata": {
        "id": "IZ3vaWiQeBma",
        "colab_type": "code",
        "colab": {}
      },
      "source": [
        "!pip install mlxtend"
      ],
      "execution_count": 0,
      "outputs": []
    },
    {
      "cell_type": "markdown",
      "metadata": {
        "id": "mRckVT0oqACM",
        "colab_type": "text"
      },
      "source": [
        "Import a sample transactional dataset and generate frequent itemset with minimum support of 0.6.\n",
        "\n",
        "What can you observe from the itemset generated? What do you think will happen if the support changes."
      ]
    },
    {
      "cell_type": "code",
      "metadata": {
        "id": "jDeb0b74eQ5M",
        "colab_type": "code",
        "colab": {}
      },
      "source": [
        "import pandas as pd\n",
        "from mlxtend.preprocessing import TransactionEncoder\n",
        "from mlxtend.frequent_patterns import apriori\n",
        "\n",
        "\n",
        "dataset = [['Milk', 'Onion', 'Nutmeg', 'Kidney Beans', 'Eggs', 'Yogurt'],\n",
        "           ['Dill', 'Onion', 'Nutmeg', 'Kidney Beans', 'Eggs', 'Yogurt'],\n",
        "           ['Milk', 'Apple', 'Kidney Beans', 'Eggs'],\n",
        "           ['Milk', 'Unicorn', 'Corn', 'Kidney Beans', 'Yogurt'],\n",
        "           ['Corn', 'Onion', 'Onion', 'Kidney Beans', 'Ice cream', 'Eggs']]\n",
        "\n",
        "te = TransactionEncoder()\n",
        "te_ary = te.fit(dataset).transform(dataset)\n",
        "df = pd.DataFrame(te_ary, columns=te.columns_)\n",
        "frequent_itemsets = apriori(df, min_support=0.6, use_colnames=True)\n",
        "\n",
        "frequent_itemsets"
      ],
      "execution_count": 0,
      "outputs": []
    },
    {
      "cell_type": "markdown",
      "metadata": {
        "id": "ucLkItvVrOZK",
        "colab_type": "text"
      },
      "source": [
        "Now let's generate the rules with confidence 0.70. "
      ]
    },
    {
      "cell_type": "code",
      "metadata": {
        "id": "fEDCeemSeTJy",
        "colab_type": "code",
        "colab": {}
      },
      "source": [
        "from mlxtend.frequent_patterns import association_rules\n",
        "\n",
        "association_rules(frequent_itemsets, metric=\"confidence\", min_threshold=0.7)"
      ],
      "execution_count": 0,
      "outputs": []
    },
    {
      "cell_type": "markdown",
      "metadata": {
        "id": "hQDwxxWyrfqR",
        "colab_type": "text"
      },
      "source": [
        "Now let's filter it by lift at 1.2. \n",
        "\n",
        "What happens if lift is less than 1? What type of rules does it generate?\n"
      ]
    },
    {
      "cell_type": "code",
      "metadata": {
        "id": "JrImeU9Ceivp",
        "colab_type": "code",
        "colab": {}
      },
      "source": [
        "rules = association_rules(frequent_itemsets, metric=\"lift\", min_threshold=1.2)\n",
        "rules"
      ],
      "execution_count": 0,
      "outputs": []
    }
  ]
}