{
  "nbformat": 4,
  "nbformat_minor": 0,
  "metadata": {
    "colab": {
      "name": "reservoir.ipynb",
      "version": "0.3.2",
      "provenance": [],
      "include_colab_link": true
    },
    "kernelspec": {
      "name": "python3",
      "display_name": "Python 3"
    }
  },
  "cells": [
    {
      "cell_type": "markdown",
      "metadata": {
        "id": "view-in-github",
        "colab_type": "text"
      },
      "source": [
        "<a href=\"https://colab.research.google.com/github/yunsing/Compsci361/blob/master/reservoir.ipynb\" target=\"_parent\"><img src=\"https://colab.research.google.com/assets/colab-badge.svg\" alt=\"Open In Colab\"/></a>"
      ]
    },
    {
      "cell_type": "markdown",
      "metadata": {
        "id": "q1yl1hVWm3Hx",
        "colab_type": "text"
      },
      "source": [
        "# Reservoir Sampling\n",
        "\n",
        "If you would like read more on this:\n",
        "Algorithms Every Data Scientist Should Know: Reservoir Sampling\n",
        "https://blog.cloudera.com/blog/2013/04/hadoop-stratified-randosampling-algorithm/\n",
        "\n",
        "In this article they mention the following:\n",
        "**\"Here’s an example of this type of question that has been popular in Silicon Valley for a number of years: Say you have a stream of items of large and unknown length that we can only iterate over once. Create an algorithm that randomly chooses an item from this stream such that each item is equally likely to be selected.\"**\n",
        "\n",
        "Here is a simple example of reservoir sampling. \n"
      ]
    },
    {
      "cell_type": "code",
      "metadata": {
        "id": "ww4w0G9D5yZA",
        "colab_type": "code",
        "outputId": "48bb5dec-3494-4ebe-f95a-ce55d53f166d",
        "colab": {
          "base_uri": "https://localhost:8080/",
          "height": 54
        }
      },
      "source": [
        "import random \n",
        "# A utility function  \n",
        "# to print an array \n",
        "def printArray(stream,n): \n",
        "    for i in range(n): \n",
        "        print(stream[i],end=\" \"); \n",
        "    print(); \n",
        "  \n",
        "# A function to randomly select \n",
        "# k items from stream[0..n-1]. \n",
        "def selectKItems(stream, n, k): \n",
        "        i=0;  \n",
        "\n",
        "        reservoir = [0]*k; \n",
        "        for i in range(k): \n",
        "            reservoir[i] = stream[i]; \n",
        "          \n",
        "        # Iterate from the (k+1)th \n",
        "        # element to nth element \n",
        "        while(i < n): \n",
        "            # Pick a random index \n",
        "            # from 0 to i. \n",
        "            j = random.randrange(i+1); \n",
        "              \n",
        "            # If the randomly picked \n",
        "            # index is smaller than k, \n",
        "            # then replace the element \n",
        "            # present at the index \n",
        "            # with new element from stream \n",
        "            if(j < k): \n",
        "                reservoir[j] = stream[i]; \n",
        "            i+=1; \n",
        "          \n",
        "        print(\"reservoir: Following are k randomly selected items\"); \n",
        "        printArray(reservoir, k); \n",
        "      \n",
        "\n",
        "  \n",
        "if __name__ == \"__main__\": \n",
        "    stream = list(range(1, 100))+ list(range(1, 100))\n",
        "    n = len(stream); \n",
        "    k = 20; \n",
        "    selectKItems(stream, n, k); \n",
        "  \n",
        "\n"
      ],
      "execution_count": 0,
      "outputs": [
        {
          "output_type": "stream",
          "text": [
            "reservoir: Following are k randomly selected items\n",
            "85 66 47 4 53 69 7 63 70 72 27 30 26 5 86 68 38 18 13 83 \n"
          ],
          "name": "stdout"
        }
      ]
    }
  ]
}