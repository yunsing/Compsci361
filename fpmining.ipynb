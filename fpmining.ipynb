{
  "nbformat": 4,
  "nbformat_minor": 0,
  "metadata": {
    "colab": {
      "name": "fpmining.ipynb",
      "version": "0.3.2",
      "provenance": [],
      "include_colab_link": true
    },
    "kernelspec": {
      "name": "python3",
      "display_name": "Python 3"
    }
  },
  "cells": [
    {
      "cell_type": "markdown",
      "metadata": {
        "id": "view-in-github",
        "colab_type": "text"
      },
      "source": [
        "<a href=\"https://colab.research.google.com/github/yunsing/Compsci361/blob/master/fpmining.ipynb\" target=\"_parent\"><img src=\"https://colab.research.google.com/assets/colab-badge.svg\" alt=\"Open In Colab\"/></a>"
      ]
    },
    {
      "cell_type": "markdown",
      "metadata": {
        "id": "SF9URTN499gz",
        "colab_type": "text"
      },
      "source": [
        "# Frequent Pattern Mining\n",
        "\n",
        "Two phase algorithm:\n",
        "(1) the algorithm counts occurrence of items (attribute-value pairs) in the dataset, and stores them to 'header table'. \n",
        "(2) it builds the FP-tree structure by inserting instances. Items in each instance have to be sorted by descending order of their frequency in the dataset, so that the tree can be processed quickly. Items in each instance that do not meet minimum coverage threshold are discarded.\n",
        "\n",
        "\n",
        "\n",
        "Orange add-on for enumerating frequent itemsets and association rules mining.\n",
        "\n",
        "Documentation: http://orange3-associate.readthedocs.org/\n"
      ]
    },
    {
      "cell_type": "code",
      "metadata": {
        "id": "MY4j1uKEJusa",
        "colab_type": "code",
        "colab": {}
      },
      "source": [
        "!pip install -U Orange3-Associate\n",
        "!pip install -U Orange3"
      ],
      "execution_count": 0,
      "outputs": []
    },
    {
      "cell_type": "markdown",
      "metadata": {
        "id": "AjGPoCvmC8uM",
        "colab_type": "text"
      },
      "source": [
        "We can try it with a larger and more real-world database of categorical values.\n",
        "\n",
        "The zoo dataset is from UCI repository. https://archive.ics.uci.edu/ml/datasets/zoo"
      ]
    },
    {
      "cell_type": "code",
      "metadata": {
        "id": "0JrTYatMbNIC",
        "colab_type": "code",
        "colab": {}
      },
      "source": [
        "from orangecontrib.associate.fpgrowth import *\n",
        "\n",
        "import Orange\n",
        "data = Orange.data.Table('zoo')\n",
        "data"
      ],
      "execution_count": 0,
      "outputs": []
    },
    {
      "cell_type": "markdown",
      "metadata": {
        "id": "wK8JV6AmDLdf",
        "colab_type": "text"
      },
      "source": [
        "We need to transform the data into a usable form for Orange3, we  perform a one-hot transformation."
      ]
    },
    {
      "cell_type": "code",
      "metadata": {
        "id": "XaLdgFE6-FJp",
        "colab_type": "code",
        "colab": {}
      },
      "source": [
        "X, mapping = OneHot.encode(data, include_class=True)"
      ],
      "execution_count": 0,
      "outputs": []
    },
    {
      "cell_type": "markdown",
      "metadata": {
        "id": "bm8azp_gFHT-",
        "colab_type": "text"
      },
      "source": [
        "We want itemsets with minimum support of 40% support."
      ]
    },
    {
      "cell_type": "code",
      "metadata": {
        "id": "PvrH9QIa-J-S",
        "colab_type": "code",
        "colab": {}
      },
      "source": [
        "itemsets = dict(frequent_itemsets(X, .4))\n",
        "len(itemsets)"
      ],
      "execution_count": 0,
      "outputs": []
    },
    {
      "cell_type": "markdown",
      "metadata": {
        "id": "Yzc6kMSqFJiB",
        "colab_type": "text"
      },
      "source": [
        "The transaction-coded items corresponding to class values are."
      ]
    },
    {
      "cell_type": "code",
      "metadata": {
        "id": "gQZjcl0NBmar",
        "colab_type": "code",
        "colab": {}
      },
      "source": [
        "class_items = {item\n",
        "...                for item, var, _ in OneHot.decode(mapping, data, mapping)\n",
        "...                if var is data.domain.class_var}\n",
        "\n",
        "sorted(class_items)"
      ],
      "execution_count": 0,
      "outputs": []
    },
    {
      "cell_type": "markdown",
      "metadata": {
        "id": "RgFh4hqqFOL9",
        "colab_type": "text"
      },
      "source": [
        "That makes sense as our class variable has seven values."
      ]
    },
    {
      "cell_type": "code",
      "metadata": {
        "id": "zP_FKBQiCLIE",
        "colab_type": "code",
        "colab": {}
      },
      "source": [
        "data.domain.class_var.values"
      ],
      "execution_count": 0,
      "outputs": []
    },
    {
      "cell_type": "markdown",
      "metadata": {
        "id": "Xp34-JUpFTrQ",
        "colab_type": "text"
      },
      "source": [
        "Now we can generate all association rules that have consequent equal to one of the class values and rules have a minimum confidence of 80% confidence."
      ]
    },
    {
      "cell_type": "code",
      "metadata": {
        "id": "QVN-lHaJCNPI",
        "colab_type": "code",
        "colab": {}
      },
      "source": [
        "rules = [(P, Q, supp, conf)\n",
        "...          for P, Q, supp, conf in association_rules(itemsets, .8)\n",
        "...          if len(Q) == 1 and Q & class_items]\n",
        "len(rules)"
      ],
      "execution_count": 0,
      "outputs": []
    },
    {
      "cell_type": "code",
      "metadata": {
        "id": "2D_MAFJDBo5L",
        "colab_type": "code",
        "colab": {}
      },
      "source": [
        "rules"
      ],
      "execution_count": 0,
      "outputs": []
    },
    {
      "cell_type": "markdown",
      "metadata": {
        "id": "VRuPMfJHFlRd",
        "colab_type": "text"
      },
      "source": [
        "To make them more helpful, we can use mapping to transform the rules’ items back into table domain values, e.g. for first ten rules."
      ]
    },
    {
      "cell_type": "code",
      "metadata": {
        "id": "dfcc7zbdCluX",
        "colab_type": "code",
        "colab": {}
      },
      "source": [
        "names = {item: '{}={}'.format(var.name, val)\n",
        "...          for item, var, val in OneHot.decode(mapping, data, mapping)}\n",
        "for ante, cons, supp, conf in rules[:10]:\n",
        "...     print(', '.join(names[i] for i in ante), '-->',\n",
        "...           names[next(iter(cons))],\n",
        "...           '(supp: {}, conf: {})'.format(supp, conf))"
      ],
      "execution_count": 0,
      "outputs": []
    },
    {
      "cell_type": "markdown",
      "metadata": {
        "id": "BAgxsrD3FwTR",
        "colab_type": "text"
      },
      "source": [
        "**Question 1:**\n",
        "What happens when you change the minmum support value? Try increasing and decreasing it? Are the results what you expected?  You may use the snippet of code below to help answer these questions.\n",
        "\n",
        "**Question 2: **\n",
        "What happens when you change the minmum support value? Try increasing and decreasing it? Are the results what you expected?\n",
        "\n",
        "\n",
        "**Question 3: **\n",
        "In association rules normally the consequent does not require you to have a specified class value. In the example above we have constrained the problems such that the consequent is of size 1 with a specific class. If you remove this constraint what happens?"
      ]
    },
    {
      "cell_type": "code",
      "metadata": {
        "id": "_CinVDplFed4",
        "colab_type": "code",
        "colab": {}
      },
      "source": [
        "itemsetLength = list()\n",
        "minsupLength = list()\n",
        "for i in range (1, 10):\n",
        "  minsup = i*0.10\n",
        "  \n",
        "  itemsets = dict(frequent_itemsets(X, minsup))\n",
        "  itemsetLength.append(len(itemsets))\n",
        "  minsupLength.append(minsup)\n",
        "\n",
        "  \n",
        "import matplotlib.pyplot as plt\n",
        "plt.plot(minsupLength, itemsetLength, 'ro')\n",
        "plt.ylabel('number of itemset')\n",
        "plt.xlabel('minsup')\n",
        "plt.show()\n"
      ],
      "execution_count": 0,
      "outputs": []
    }
  ]
}