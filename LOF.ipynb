{
  "nbformat": 4,
  "nbformat_minor": 0,
  "metadata": {
    "colab": {
      "name": "LOF.ipynb",
      "version": "0.3.2",
      "provenance": [],
      "collapsed_sections": [],
      "include_colab_link": true
    },
    "kernelspec": {
      "name": "python3",
      "display_name": "Python 3"
    }
  },
  "cells": [
    {
      "cell_type": "markdown",
      "metadata": {
        "id": "view-in-github",
        "colab_type": "text"
      },
      "source": [
        "<a href=\"https://colab.research.google.com/github/yunsing/Compsci361/blob/master/LOF.ipynb\" target=\"_parent\"><img src=\"https://colab.research.google.com/assets/colab-badge.svg\" alt=\"Open In Colab\"/></a>"
      ]
    },
    {
      "cell_type": "markdown",
      "metadata": {
        "id": "lVkCbXXZ2fYM",
        "colab_type": "text"
      },
      "source": [
        "# LOF ANOMALY DETECTION\n",
        "\n",
        "First we generate the data to be used this is similar to what we seen in class."
      ]
    },
    {
      "cell_type": "code",
      "metadata": {
        "id": "chN12UTUHXij",
        "colab_type": "code",
        "colab": {}
      },
      "source": [
        "from collections import defaultdict\n",
        "import numpy as np\n",
        "\n",
        "instances = np.matrix([[0,0],[0,1],[1,1],[3,0]])\n",
        "\n",
        "import numpy as np\n",
        "import matplotlib.pyplot as plt\n",
        "\n",
        "x = np.squeeze(np.asarray(instances[:,0]))\n",
        "y = np.squeeze(np.asarray(instances[:,1]))\n",
        "plt.cla()\n",
        "plt.figure(1)\n",
        "plt.scatter(x,y)\n",
        "plt.show()\n"
      ],
      "execution_count": 0,
      "outputs": []
    },
    {
      "cell_type": "markdown",
      "metadata": {
        "id": "BdvqC0963eNV",
        "colab_type": "text"
      },
      "source": [
        "Use  a Manhattan distance to caluclate distance."
      ]
    },
    {
      "cell_type": "code",
      "metadata": {
        "id": "EuPo4x41I9qt",
        "colab_type": "code",
        "colab": {}
      },
      "source": [
        "k = 2\n",
        "distance = 'manhattan'\n",
        "\n",
        "\n",
        "from sklearn.metrics import pairwise_distances\n",
        "dist = pairwise_distances(instances,metric=distance)"
      ],
      "execution_count": 0,
      "outputs": []
    },
    {
      "cell_type": "markdown",
      "metadata": {
        "id": "JBUG8eYm3q_A",
        "colab_type": "text"
      },
      "source": [
        "Actually calculating k- distance"
      ]
    },
    {
      "cell_type": "code",
      "metadata": {
        "id": "fOAQagOOJE6O",
        "colab_type": "code",
        "colab": {}
      },
      "source": [
        "# Calculate K distance\n",
        "import heapq\n",
        "k_distance = defaultdict(tuple)\n",
        "# For each data point\n",
        "for i in range(instances.shape[0]):\n",
        "    # Get its distance to all the other points.\n",
        "    # Convert array into list for convienience\n",
        "    distances = dist[i].tolist()\n",
        "    # Get the K nearest neighbours\n",
        "    ksmallest = heapq.nsmallest(k+1,distances)[1:][k-1]\n",
        "    # Get their indices\n",
        "    ksmallest_idx = distances.index(ksmallest)\n",
        "    # For each data point store the K th nearest neighbour and its distance\n",
        "    k_distance[i]=(ksmallest,ksmallest_idx)"
      ],
      "execution_count": 0,
      "outputs": []
    },
    {
      "cell_type": "markdown",
      "metadata": {
        "id": "oSIjHua630ae",
        "colab_type": "text"
      },
      "source": [
        "Calculate K distance neighbourhood"
      ]
    },
    {
      "cell_type": "code",
      "metadata": {
        "id": "_McJsDt_JI_6",
        "colab_type": "code",
        "colab": {}
      },
      "source": [
        "def all_indices(value, inlist):\n",
        "    out_indices = []\n",
        "    idx = -1\n",
        "    while True:\n",
        "        try:\n",
        "            idx = inlist.index(value, idx+1)\n",
        "            out_indices.append(idx)\n",
        "        except ValueError:\n",
        "            break\n",
        "    return out_indices\n",
        "# Calculate K distance neighbourhood\n",
        "import heapq\n",
        "k_distance_neig = defaultdict(list)\n",
        "# For each data point\n",
        "for i in range(instances.shape[0]):\n",
        "    # Get the points distances to its neighbours\n",
        "    distances = dist[i].tolist()\n",
        "    print (\"k distance neighbourhood\",i)\n",
        "    print (distances)\n",
        "    # Get the 1 to K nearest neighbours\n",
        "    ksmallest = heapq.nsmallest(k+1,distances)[1:]\n",
        "    print (ksmallest)\n",
        "    ksmallest_set = set(ksmallest)\n",
        "    print (ksmallest_set)\n",
        "    ksmallest_idx = []\n",
        "    # Get the indices of the K smallest elements\n",
        "    for x in ksmallest_set:\n",
        "            ksmallest_idx.append(all_indices(x,distances))\n",
        "    # Change a list of list to list\n",
        "    ksmallest_idx = [item for sublist in ksmallest_idx for item in sublist]\n",
        "    # For each data pont store the K distance neighbourhood\n",
        "    k_distance_neig[i].extend(zip(ksmallest,ksmallest_idx))\n",
        "\n"
      ],
      "execution_count": 0,
      "outputs": []
    },
    {
      "cell_type": "markdown",
      "metadata": {
        "id": "mnSWoE_r4Ay-",
        "colab_type": "text"
      },
      "source": [
        "Calculate LRD (Local reachable density)"
      ]
    },
    {
      "cell_type": "code",
      "metadata": {
        "id": "7HMK_9DpJTmG",
        "colab_type": "code",
        "colab": {}
      },
      "source": [
        "#Local reachable density\n",
        "local_reach_density = defaultdict(float)\n",
        "for i in range(instances.shape[0]):\n",
        "    # LRDs numerator, number of K distance neighbourhood\n",
        "    no_neighbours = len(k_distance_neig[i])\n",
        "    denom_sum = 0\n",
        "    # Reachability distance sum\n",
        "    for neigh in k_distance_neig[i]:\n",
        "        # maximum(K-Distance(P), Distance(P,Q))\n",
        "        denom_sum+=max(k_distance[neigh[1]][0],neigh[0])\n",
        "    local_reach_density[i] = no_neighbours/(1.0*denom_sum)\n",
        "    print(\"Local Reach Density:\", i, \",\", local_reach_density[i])"
      ],
      "execution_count": 0,
      "outputs": []
    },
    {
      "cell_type": "markdown",
      "metadata": {
        "id": "dAUT_kqZ4P6C",
        "colab_type": "text"
      },
      "source": [
        "Calculate K distance neighbourhood"
      ]
    },
    {
      "cell_type": "code",
      "metadata": {
        "id": "RMz9mueRJi3O",
        "colab_type": "code",
        "colab": {}
      },
      "source": [
        "lof_list =[]\n",
        "#Local Outlier Factor\n",
        "for i in range(instances.shape[0]):\n",
        "    lrd_sum = 0\n",
        "    rdist_sum = 0\n",
        "    for neigh in k_distance_neig[i]:\n",
        "        lrd_sum+=local_reach_density[neigh[1]]\n",
        "        rdist_sum+=max(k_distance[neigh[1]][0],neigh[0])\n",
        "    lof_list.append((i,lrd_sum*rdist_sum))\n",
        "print(\"LOF list:\",lof_list)"
      ],
      "execution_count": 0,
      "outputs": []
    }
  ]
}