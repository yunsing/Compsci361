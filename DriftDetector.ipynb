{
  "nbformat": 4,
  "nbformat_minor": 0,
  "metadata": {
    "colab": {
      "name": "DriftDetector.ipynb",
      "version": "0.3.2",
      "provenance": [],
      "include_colab_link": true
    },
    "kernelspec": {
      "name": "python3",
      "display_name": "Python 3"
    }
  },
  "cells": [
    {
      "cell_type": "markdown",
      "metadata": {
        "id": "view-in-github",
        "colab_type": "text"
      },
      "source": [
        "<a href=\"https://colab.research.google.com/github/yunsing/Compsci361/blob/master/DriftDetector.ipynb\" target=\"_parent\"><img src=\"https://colab.research.google.com/assets/colab-badge.svg\" alt=\"Open In Colab\"/></a>"
      ]
    },
    {
      "cell_type": "markdown",
      "metadata": {
        "id": "ZbecxBPFLG28",
        "colab_type": "text"
      },
      "source": [
        "# Concept Drift Detection: DDM & ADWIN\n",
        "\n",
        "Inspired by MOA and MEKA , following scikit-learn philosophy. When the installation is completed (and no errors were reported), then you will be ready to use scikit-multiflow."
      ]
    },
    {
      "cell_type": "code",
      "metadata": {
        "id": "vlTPLCVnO1gm",
        "colab_type": "code",
        "colab": {}
      },
      "source": [
        "!pip install -U scikit-multiflow"
      ],
      "execution_count": 0,
      "outputs": []
    },
    {
      "cell_type": "markdown",
      "metadata": {
        "id": "kjfqlqZ_PTw-",
        "colab_type": "text"
      },
      "source": [
        "The skmultiflow.drift_detection module includes methods for Concept Drift Detection.\n",
        "\n",
        "\n",
        "This concept change detection method is based on the PAC learning model premise, that the learner’s error rate will decrease as the number of analysed samples increase, as long as the data distribution is stationary.\n",
        "\n",
        "\n",
        "If the algorithm detects an increase in the error rate, that surpasses a calculated threshold, either change is detected or the algorithm will warn the user that change may occur in the near future, which is called the warning zone.\n",
        "\n",
        "\n",
        "The detection threshold is calculated in function of two statistics, obtained when (pi + si) is minimum: pmin: The minimum recorded error rate. smin: The minimum recorded standard deviation.\n",
        "\n",
        "\n",
        "At instant i, the detection algorithm uses: pi: The error rate at instant i. si: The standard deviation at instant i.\n",
        "\n",
        "\n",
        "The conditions for entering the warning zone and detecting change are as follows: `if pi + si >= pmin + 2 * smin -> Warning zone if pi + si >= pmin + 3 * smin `-> Change detected\n",
        "\n",
        "**Analyse the results from DDM.**"
      ]
    },
    {
      "cell_type": "code",
      "metadata": {
        "id": "JUEOqysXPV9Y",
        "colab_type": "code",
        "colab": {}
      },
      "source": [
        "import numpy as np\n",
        "\n",
        "from skmultiflow.drift_detection import DDM\n",
        "ddm = DDM()\n",
        "\n",
        "# Simulating a data stream as a normal distribution of 1's and 0's\n",
        "data_stream = np.random.randint(2, size=10000)\n",
        "# Changing the data concept from index 4999 to 10000\n",
        "for i in range(4999, 10000):\n",
        "     data_stream[i] = np.random.randint(4, high=8)\n",
        "    \n",
        "# Adding stream elements to ADWIN and verifying if drift occurred\n",
        "for i in range(10000):\n",
        "     ddm.add_element(data_stream[i])\n",
        "     if ddm.detected_warning_zone():\n",
        "         print('Warning zone has been detected in data: ' + str(data_stream[i]) + ' - of index: ' + str(i))\n",
        "     if ddm.detected_change():\n",
        "         print('Change has been detected in data: ' + str(data_stream[i]) + ' - of index: ' + str(i))"
      ],
      "execution_count": 0,
      "outputs": []
    },
    {
      "cell_type": "markdown",
      "metadata": {
        "id": "8Itm0D0wQT6V",
        "colab_type": "text"
      },
      "source": [
        "ADWIN  (ADaptive WINdowing) is an adaptive sliding window algorithm for detecting change, and keeping updated statistics about a data stream. ADWIN allows algorithms not adapted for drifting data, to be resistant to this phenomenon.\n",
        "\n",
        "\n",
        "The general idea is to keep statistics from a window of variable size while detecting concept drift.\n",
        "\n",
        "\n",
        "The algorithm will decide the size of the window by cutting the statistics’ window at different points and analysing the average of some statistic over these two windows. If the absolute value of the difference between the two averages surpasses a pre-defined threshold, change is detected at that point and all data before that time is discarded.\n",
        "\n",
        "\n",
        "**What is the difference between the results for DDM and ADWIN?**"
      ]
    },
    {
      "cell_type": "code",
      "metadata": {
        "id": "bYq0b1T6QipJ",
        "colab_type": "code",
        "colab": {}
      },
      "source": [
        "import numpy as np\n",
        "from skmultiflow.drift_detection.adwin import ADWIN\n",
        "adwin = ADWIN()\n",
        "# Simulating a data stream as a normal distribution of 1's and 0's\n",
        "data_stream = np.random.randint(2, size=10000)\n",
        "# Changing the data concept from index 4999 to 10000\n",
        "for i in range(4999, 10000):\n",
        "     data_stream[i] = np.random.randint(4, high=8)\n",
        "# Adding stream elements to ADWIN and verifying if drift occurred\n",
        "for i in range(10000):\n",
        "     adwin.add_element(data_stream[i])\n",
        "     if adwin.detected_change():\n",
        "         print('Change detected in data: ' + str(data_stream[i]) + ' - at index: ' + str(i))"
      ],
      "execution_count": 0,
      "outputs": []
    },
    {
      "cell_type": "markdown",
      "metadata": {
        "id": "x9rJn91oQ3_5",
        "colab_type": "text"
      },
      "source": [
        "**What happens if you alter the delta value in ADWIN?**\n",
        "\n",
        "\n",
        "Now try to use another drift detector "
      ]
    }
  ]
}