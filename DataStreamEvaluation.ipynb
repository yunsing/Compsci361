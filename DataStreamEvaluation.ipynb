{
  "nbformat": 4,
  "nbformat_minor": 0,
  "metadata": {
    "colab": {
      "name": "DataStreamEvaluation.ipynb",
      "version": "0.3.2",
      "provenance": [],
      "include_colab_link": true
    },
    "kernelspec": {
      "name": "python3",
      "display_name": "Python 3"
    }
  },
  "cells": [
    {
      "cell_type": "markdown",
      "metadata": {
        "id": "view-in-github",
        "colab_type": "text"
      },
      "source": [
        "<a href=\"https://colab.research.google.com/github/yunsing/Compsci361/blob/master/DataStreamEvaluation.ipynb\" target=\"_parent\"><img src=\"https://colab.research.google.com/assets/colab-badge.svg\" alt=\"Open In Colab\"/></a>"
      ]
    },
    {
      "cell_type": "markdown",
      "metadata": {
        "id": "pGIf_ruuL-Fj",
        "colab_type": "text"
      },
      "source": [
        "# **Data Stream Mining**\n",
        "\n",
        "Inspired by MOA and MEKA , following scikit-learn philosophy. When the installation is completed (and no errors were reported), then you will be ready to use scikit-multiflow."
      ]
    },
    {
      "cell_type": "code",
      "metadata": {
        "id": "-zzTQMfnorzl",
        "colab_type": "code",
        "colab": {}
      },
      "source": [
        "!pip install -U scikit-multiflow"
      ],
      "execution_count": 0,
      "outputs": []
    },
    {
      "cell_type": "markdown",
      "metadata": {
        "id": "bfEKv4NEM54_",
        "colab_type": "text"
      },
      "source": [
        "Generate synthetic data stream using SEAGenerator and then evaluate the stream using the HoeffdingTree. We use a holdout mechansime to evaluate the results. The evaluation metrics used to evaluate this was accuracy and kappa.\n",
        "\n",
        "The holdout evaluation method, or periodic holdout evaluation method, analyses each arriving sample by updating its statistics, without computing performance metrics, nor predicting labels or regression values.\n",
        "\n",
        "The performance evaluation happens at every n_wait analysed samples, at which moment the evaluator will test the learners performance on a test set, formed by yet unseen samples, which will be used to evaluate performance, but not to train the model.\n",
        "\n",
        "```\n",
        "class skmultiflow.evaluation.evaluate_holdout.EvaluateHoldout(n_wait=10000 (default), max_samples=100000, batch_size=1, max_time=inf, metrics=None, output_file=None, show_plot=False, restart_stream=True, test_size=5000, dynamic_test_set=False)\n",
        "\n",
        "```\n",
        "\n",
        "What do you observe from the outcome of the code below?\n",
        "\n",
        "\n"
      ]
    },
    {
      "cell_type": "code",
      "metadata": {
        "id": "KWrjZZS4ke7R",
        "colab_type": "code",
        "colab": {}
      },
      "source": [
        "from skmultiflow.data import SEAGenerator\n",
        "from skmultiflow.trees import HoeffdingTree\n",
        "from skmultiflow.evaluation import EvaluateHoldout\n",
        "\n",
        "# Set the stream\n",
        "stream = SEAGenerator(random_state=1)\n",
        "stream.prepare_for_use()\n",
        "\n",
        "# Set the model\n",
        "ht = HoeffdingTree()\n",
        "\n",
        "# Set the evaluator\n",
        "evaluator = EvaluateHoldout(max_samples=100000,\n",
        "                            max_time=1000,\n",
        "                            show_plot=False,\n",
        "                            metrics=['accuracy', 'kappa'],\n",
        "                            dynamic_test_set=True)\n",
        "\n",
        "# Run evaluation\n",
        "evaluator.evaluate(stream=stream, model=ht, model_names=['HT'])"
      ],
      "execution_count": 0,
      "outputs": []
    },
    {
      "cell_type": "markdown",
      "metadata": {
        "id": "U9UuKnRYORcc",
        "colab_type": "text"
      },
      "source": [
        "The prequential evaluation method, or interleaved test-then-train method, is an alternative to the traditional holdout evaluation, inherited from batch setting problems.\n",
        "\n",
        "The prequential evaluation is designed specifically for stream settings, in the sense that each sample serves two purposes, and that samples are analysed sequentially, in order of arrival, and become immediately inaccessible.\n",
        "\n",
        "\n",
        "\n",
        "```\n",
        "class skmultiflow.evaluation.evaluate_prequential.EvaluatePrequential(n_wait=200, max_samples=100000, batch_size=1, pretrain_size=200, max_time=inf, metrics=None, output_file=None, show_plot=False, restart_stream=True, data_points_for_classification=False\n",
        "```\n",
        "\n"
      ]
    },
    {
      "cell_type": "code",
      "metadata": {
        "id": "6Y6WKccptsQq",
        "colab_type": "code",
        "colab": {}
      },
      "source": [
        "from skmultiflow.data import SEAGenerator\n",
        "from skmultiflow.trees import HoeffdingTree\n",
        "from skmultiflow.evaluation import EvaluatePrequential\n",
        "\n",
        "# Set the stream\n",
        "stream = SEAGenerator(random_state=1)\n",
        "stream.prepare_for_use()\n",
        "\n",
        "# Set the model\n",
        "ht = HoeffdingTree()\n",
        "\n",
        "# Set the evaluator\n",
        "\n",
        "evaluator = EvaluatePrequential(max_samples=10000,\n",
        "                                max_time=1000,\n",
        "                                show_plot=False,\n",
        "                                metrics=['accuracy', 'kappa'])\n",
        "\n",
        "\n",
        "# Run evaluation\n",
        "evaluator.evaluate(stream=stream, model=ht, model_names=['HT'])\n"
      ],
      "execution_count": 0,
      "outputs": []
    },
    {
      "cell_type": "code",
      "metadata": {
        "id": "mTQP4nykqkN6",
        "colab_type": "code",
        "colab": {}
      },
      "source": [
        "from skmultiflow.data import SEAGenerator\n",
        "from skmultiflow.trees import HoeffdingTree\n",
        "from skmultiflow.trees.hoeffding_adaptive_tree import HAT\n",
        "from skmultiflow.evaluation import EvaluatePrequential\n",
        "\n",
        "\n",
        "# Set the stream\n",
        "stream = SEAGenerator(random_state=1)\n",
        "stream.prepare_for_use()\n",
        "\n",
        "# Set the model\n",
        "ht = HoeffdingTree()\n",
        "hat = HAT()\n",
        "\n",
        "# Set the evaluator\n",
        "\n",
        "evaluator = EvaluatePrequential(max_samples=10000,\n",
        "                                max_time=1000,\n",
        "                                show_plot=False,\n",
        "                                metrics=['accuracy', 'kappa'],data_points_for_classification=False)\n",
        "\n",
        "\n",
        "# Run evaluation\n",
        "evaluator.evaluate(stream=stream, model=[ht, hat], model_names=['HT', 'hat'])\n",
        "\n",
        "\n",
        "\n"
      ],
      "execution_count": 0,
      "outputs": []
    },
    {
      "cell_type": "code",
      "metadata": {
        "id": "-GlmKjOYrzaW",
        "colab_type": "code",
        "colab": {}
      },
      "source": [
        "\n"
      ],
      "execution_count": 0,
      "outputs": []
    }
  ]
}